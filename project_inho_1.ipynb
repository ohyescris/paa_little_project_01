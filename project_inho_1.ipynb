{
 "cells": [
  {
   "cell_type": "code",
   "execution_count": 1,
   "id": "25f25a40",
   "metadata": {},
   "outputs": [],
   "source": [
    "import random\n",
    "\n",
    "import numpy as np\n",
    "import pandas as pd\n",
    "import matplotlib.pyplot as plt\n",
    "import seaborn as sns\n",
    "from copy import deepcopy\n",
    "import math\n",
    "\n",
    "import datetime\n",
    "\n",
    "sns.set_style('whitegrid')\n",
    "plt.rcParams['figure.figsize'] = [20, 10]"
   ]
  },
  {
   "cell_type": "code",
   "execution_count": 2,
   "id": "0be1a8b8",
   "metadata": {},
   "outputs": [],
   "source": [
    "def mergeSort(arr):\n",
    "    if len(arr) > 1:\n",
    "\n",
    "        mid =len(arr)//2\n",
    "\n",
    "        L = arr[:mid]\n",
    "\n",
    "        R = arr[mid:]\n",
    "\n",
    "        mergeSort(L)\n",
    "\n",
    "        mergeSort(R)\n",
    "\n",
    "        i = j = k = 0\n",
    "\n",
    "        while i < len(L) and j < len(R):\n",
    "            if L[i] <= R[j]:\n",
    "                arr[k] = L[i]\n",
    "                i += 1\n",
    "            else:\n",
    "                arr[k] = R[j]\n",
    "                j += 1\n",
    "            k += 1\n",
    "\n",
    "        while i < len(L):\n",
    "            arr[k] = L[i]\n",
    "            i += 1\n",
    "            k += 1\n",
    "\n",
    "        while j < len(R):\n",
    "            arr[k] = R[j]\n",
    "            j += 1\n",
    "            k += 1"
   ]
  },
  {
   "cell_type": "code",
   "execution_count": 3,
   "id": "4366e6e4",
   "metadata": {},
   "outputs": [],
   "source": [
    "  def insertionSort(arr):\n",
    "\n",
    "    for i in range(1, len(arr)):\n",
    "\n",
    "        key = arr[i]\n",
    "\n",
    "        j = i-1\n",
    "        while j >= 0 and key < arr[j] :\n",
    "            arr[j + 1] = arr[j]\n",
    "            j -= 1\n",
    "        arr[j + 1] = key"
   ]
  },
  {
   "cell_type": "code",
   "execution_count": 4,
   "id": "fc549d0e",
   "metadata": {},
   "outputs": [],
   "source": [
    "def combineSort(arr1, arr2):\n",
    "    insertionSort(arr1)\n",
    "    insertionSort(arr2)\n",
    "    combined_arr = np.concatenate((arr1, arr2))\n",
    "    insertionSort(combined_arr)\n",
    "\n",
    "    return combined_arr"
   ]
  },
  {
   "cell_type": "code",
   "execution_count": 5,
   "id": "12fc7c7a",
   "metadata": {},
   "outputs": [],
   "source": [
    "def insertionSortCombination(arr):\n",
    "    \n",
    "    len_arr = len(arr)\n",
    "    n = 10\n",
    "    # split one time\n",
    "    if (len_arr %n == 0):\n",
    "        split_arr = np.split(np.array(arr), n)\n",
    "    else:\n",
    "        tmp_val = math.floor(len_arr/n)*n\n",
    "        split_arr = np.split(np.array(arr)[:tmp_val], n)\n",
    "        split_arr.append(arr[tmp_val:])\n",
    "    \n",
    "    while(len(split_arr) != 1):\n",
    "        tmp_arr = []\n",
    "        for i in range(int(len(split_arr)/2)):\n",
    "            tmp_arr.append(combineSort(split_arr[i*2], split_arr[i*2+1]))\n",
    "        \n",
    "        if (len(split_arr)%2 != 0):\n",
    "            tmp_arr.append(split_arr[-1])\n",
    "        \n",
    "        split_arr = tmp_arr\n",
    "    \n",
    "    return split_arr"
   ]
  },
  {
   "cell_type": "code",
   "execution_count": 6,
   "id": "df9d0b94",
   "metadata": {},
   "outputs": [
    {
     "name": "stdout",
     "output_type": "stream",
     "text": [
      "[4807, 9642, 1207, 931, 4305, 8872, 4566, 4153, 7735, 1721]\n"
     ]
    }
   ],
   "source": [
    "# tamanho dos vetores\n",
    "n = []\n",
    "for i in range(10):\n",
    "    n.append(int(random.uniform(10, 10000)))\n",
    "print(n)"
   ]
  },
  {
   "cell_type": "code",
   "execution_count": 7,
   "id": "c7805951",
   "metadata": {},
   "outputs": [
    {
     "name": "stdout",
     "output_type": "stream",
     "text": [
      "17\n"
     ]
    }
   ],
   "source": [
    "# quantidade de entradas\n",
    "m = int(random.uniform(10, 20))\n",
    "print(m)"
   ]
  },
  {
   "cell_type": "code",
   "execution_count": 8,
   "id": "8a3b35d0",
   "metadata": {},
   "outputs": [],
   "source": [
    "# primeiro tamanho n tem que ter m entradas\n",
    "all_inputs = []\n",
    "for i in range(len(n)):\n",
    "    all_inputs.append([])\n",
    "    for j in range(m):\n",
    "        all_inputs[i].append([])\n",
    "        for k in range(n[i]):\n",
    "            all_inputs[i][j].append(round(random.uniform(-2*n[i], 2*n[i]), 2))\n",
    "\n",
    "# all inputs[0] -> entradas com tamanho n[0] -> m entradas\n",
    "# all inputs[1] -> entradas com tamanho n[1] -> m entradas\n",
    "# all inputs[0][0] -> entradas com tamanho n[0] -> primeira entrada\n",
    "\n",
    "unsorted_input = deepcopy(all_inputs)\n",
    "merge_sort_output = deepcopy(all_inputs)\n",
    "insertion_sort_output = deepcopy(all_inputs)"
   ]
  },
  {
   "cell_type": "code",
   "execution_count": 9,
   "id": "a6780d15",
   "metadata": {},
   "outputs": [
    {
     "name": "stdout",
     "output_type": "stream",
     "text": [
      "5.167027 seconds\n"
     ]
    }
   ],
   "source": [
    "merge_sort_timer = []\n",
    "start_all = datetime.datetime.now()\n",
    "for i in range(len(merge_sort_output)):\n",
    "    ms_timer = 0\n",
    "    for j in range(len(merge_sort_output[i])):\n",
    "        ms_start = datetime.datetime.now()\n",
    "        mergeSort(merge_sort_output[i][j])\n",
    "        ms_end = datetime.datetime.now()\n",
    "        ms_timer += (ms_end - ms_start).total_seconds()\n",
    "    merge_sort_timer.append(ms_timer/len(merge_sort_output[i]))\n",
    "end_all = datetime.datetime.now()\n",
    "runtime_merge = (end_all - start_all).total_seconds()\n",
    "print(f'{runtime_merge} seconds')"
   ]
  },
  {
   "cell_type": "code",
   "execution_count": 10,
   "id": "612c7bec",
   "metadata": {},
   "outputs": [
    {
     "name": "stdout",
     "output_type": "stream",
     "text": [
      "748.238629 seconds\n"
     ]
    }
   ],
   "source": [
    "insertion_sort_timer = []\n",
    "start_all = datetime.datetime.now()\n",
    "for i in range(len(insertion_sort_output)):\n",
    "    is_timer = 0\n",
    "    for j in range(len(insertion_sort_output[i])):\n",
    "        is_start = datetime.datetime.now()\n",
    "        insertion_sort_output[i][j] = insertionSortCombination(insertion_sort_output[i][j])\n",
    "        is_end = datetime.datetime.now()\n",
    "        is_timer += (is_end - is_start).total_seconds()\n",
    "    insertion_sort_timer.append(is_timer/len(insertion_sort_output[i]))\n",
    "end_all = datetime.datetime.now()\n",
    "runtime_insertion = (end_all - start_all).total_seconds()\n",
    "print(f'{runtime_insertion} seconds')"
   ]
  },
  {
   "cell_type": "code",
   "execution_count": 11,
   "id": "8db850a9",
   "metadata": {
    "scrolled": true
   },
   "outputs": [
    {
     "data": {
      "image/png": "[encoded data removed]",
      "text/plain": [
       "<Figure size 1440x720 with 1 Axes>"
      ]
     },
     "metadata": {},
     "output_type": "display_data"
    }
   ],
   "source": [
    "plt.plot(n,merge_sort_timer, marker='o', markersize='10', linestyle='None')\n",
    "plt.plot(n,insertion_sort_timer, color='red',marker='*', markersize='10', linestyle='None')\n",
    "plt.ylabel('Time')\n",
    "plt.xlabel('Array length')\n",
    "plt.show()"
   ]
  }
 ],
 "metadata": {
  "kernelspec": {
   "display_name": "Python 3 (ipykernel)",
   "language": "python",
   "name": "python3"
  },
  "language_info": {
   "codemirror_mode": {
    "name": "ipython",
    "version": 3
   },
   "file_extension": ".py",
   "mimetype": "text/x-python",
   "name": "python",
   "nbconvert_exporter": "python",
   "pygments_lexer": "ipython3",
   "version": "3.7.9"
  }
 },
 "nbformat": 4,
 "nbformat_minor": 5
}
